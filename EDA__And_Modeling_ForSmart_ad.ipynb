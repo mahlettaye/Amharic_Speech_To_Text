{
  "nbformat": 4,
  "nbformat_minor": 0,
  "metadata": {
    "colab": {
      "name": "EDA_ And Modeling_ForSmart_ad.ipynb",
      "provenance": [],
      "collapsed_sections": [],
      "authorship_tag": "ABX9TyNdPTohLvkJizyQwPWlnQah"
    },
    "kernelspec": {
      "name": "python3",
      "display_name": "Python 3"
    },
    "language_info": {
      "name": "python"
    }
  },
  "cells": [
    {
      "cell_type": "code",
      "metadata": {
        "colab": {
          "base_uri": "https://localhost:8080/"
        },
        "id": "TU83scmPIyQg",
        "outputId": "6ca42770-1175-40e1-b190-cb2f8c1f855c"
      },
      "source": [
        "# Initial data colllection starts\n",
        "#Import all necessary packages\n",
        "\n",
        "import pandas as pd\n",
        "import seaborn as sns\n",
        "import matplotlib.pyplot as plt\n",
        "\n",
        "import re\n",
        "import os\n",
        "from google.colab import drive\n",
        "drive.mount('/content/drive/')\n",
        "#To Change my directory\n"
      ],
      "execution_count": 1,
      "outputs": [
        {
          "output_type": "stream",
          "text": [
            "Drive already mounted at /content/drive/; to attempt to forcibly remount, call drive.mount(\"/content/drive/\", force_remount=True).\n"
          ],
          "name": "stdout"
        }
      ]
    },
    {
      "cell_type": "code",
      "metadata": {
        "colab": {
          "base_uri": "https://localhost:8080/"
        },
        "id": "6BzCRCUtIzIt",
        "outputId": "39cc80bd-fab2-4220-8aae-4b32a72dcc02"
      },
      "source": [
        "os.chdir(\"drive/MyDrive/data\")\n",
        "os.listdir()"
      ],
      "execution_count": 2,
      "outputs": [
        {
          "output_type": "execute_result",
          "data": {
            "text/plain": [
              "['cache',\n",
              " 'masked_wordcloud.jpg',\n",
              " 'output.html',\n",
              " 'model.joblib',\n",
              " 'scaler.joblib',\n",
              " 'roseman',\n",
              " 'AMHARIC',\n",
              " 'AdSmartABdata.csv',\n",
              " 'rossmann-store-sales.zip']"
            ]
          },
          "metadata": {
            "tags": []
          },
          "execution_count": 2
        }
      ]
    },
    {
      "cell_type": "markdown",
      "metadata": {
        "id": "1gt0B3y0LNRp"
      },
      "source": [
        "**Overview of data**"
      ]
    },
    {
      "cell_type": "code",
      "metadata": {
        "colab": {
          "base_uri": "https://localhost:8080/",
          "height": 204
        },
        "id": "uPydZoHBJCeX",
        "outputId": "3aeb2d89-150e-4d99-f79b-c16c65b6a86a"
      },
      "source": [
        "data = pd.read_csv('AdSmartABdata.csv')\n",
        "data.head()"
      ],
      "execution_count": 3,
      "outputs": [
        {
          "output_type": "execute_result",
          "data": {
            "text/html": [
              "<div>\n",
              "<style scoped>\n",
              "    .dataframe tbody tr th:only-of-type {\n",
              "        vertical-align: middle;\n",
              "    }\n",
              "\n",
              "    .dataframe tbody tr th {\n",
              "        vertical-align: top;\n",
              "    }\n",
              "\n",
              "    .dataframe thead th {\n",
              "        text-align: right;\n",
              "    }\n",
              "</style>\n",
              "<table border=\"1\" class=\"dataframe\">\n",
              "  <thead>\n",
              "    <tr style=\"text-align: right;\">\n",
              "      <th></th>\n",
              "      <th>auction_id</th>\n",
              "      <th>experiment</th>\n",
              "      <th>date</th>\n",
              "      <th>hour</th>\n",
              "      <th>device_make</th>\n",
              "      <th>platform_os</th>\n",
              "      <th>browser</th>\n",
              "      <th>yes</th>\n",
              "      <th>no</th>\n",
              "    </tr>\n",
              "  </thead>\n",
              "  <tbody>\n",
              "    <tr>\n",
              "      <th>0</th>\n",
              "      <td>0008ef63-77a7-448b-bd1e-075f42c55e39</td>\n",
              "      <td>exposed</td>\n",
              "      <td>2020-07-10</td>\n",
              "      <td>8</td>\n",
              "      <td>Generic Smartphone</td>\n",
              "      <td>6</td>\n",
              "      <td>Chrome Mobile</td>\n",
              "      <td>0</td>\n",
              "      <td>0</td>\n",
              "    </tr>\n",
              "    <tr>\n",
              "      <th>1</th>\n",
              "      <td>000eabc5-17ce-4137-8efe-44734d914446</td>\n",
              "      <td>exposed</td>\n",
              "      <td>2020-07-07</td>\n",
              "      <td>10</td>\n",
              "      <td>Generic Smartphone</td>\n",
              "      <td>6</td>\n",
              "      <td>Chrome Mobile</td>\n",
              "      <td>0</td>\n",
              "      <td>0</td>\n",
              "    </tr>\n",
              "    <tr>\n",
              "      <th>2</th>\n",
              "      <td>0016d14a-ae18-4a02-a204-6ba53b52f2ed</td>\n",
              "      <td>exposed</td>\n",
              "      <td>2020-07-05</td>\n",
              "      <td>2</td>\n",
              "      <td>E5823</td>\n",
              "      <td>6</td>\n",
              "      <td>Chrome Mobile WebView</td>\n",
              "      <td>0</td>\n",
              "      <td>1</td>\n",
              "    </tr>\n",
              "    <tr>\n",
              "      <th>3</th>\n",
              "      <td>00187412-2932-4542-a8ef-3633901c98d9</td>\n",
              "      <td>control</td>\n",
              "      <td>2020-07-03</td>\n",
              "      <td>15</td>\n",
              "      <td>Samsung SM-A705FN</td>\n",
              "      <td>6</td>\n",
              "      <td>Facebook</td>\n",
              "      <td>0</td>\n",
              "      <td>0</td>\n",
              "    </tr>\n",
              "    <tr>\n",
              "      <th>4</th>\n",
              "      <td>001a7785-d3fe-4e11-a344-c8735acacc2c</td>\n",
              "      <td>control</td>\n",
              "      <td>2020-07-03</td>\n",
              "      <td>15</td>\n",
              "      <td>Generic Smartphone</td>\n",
              "      <td>6</td>\n",
              "      <td>Chrome Mobile</td>\n",
              "      <td>0</td>\n",
              "      <td>0</td>\n",
              "    </tr>\n",
              "  </tbody>\n",
              "</table>\n",
              "</div>"
            ],
            "text/plain": [
              "                             auction_id experiment  ... yes  no\n",
              "0  0008ef63-77a7-448b-bd1e-075f42c55e39    exposed  ...   0   0\n",
              "1  000eabc5-17ce-4137-8efe-44734d914446    exposed  ...   0   0\n",
              "2  0016d14a-ae18-4a02-a204-6ba53b52f2ed    exposed  ...   0   1\n",
              "3  00187412-2932-4542-a8ef-3633901c98d9    control  ...   0   0\n",
              "4  001a7785-d3fe-4e11-a344-c8735acacc2c    control  ...   0   0\n",
              "\n",
              "[5 rows x 9 columns]"
            ]
          },
          "metadata": {
            "tags": []
          },
          "execution_count": 3
        }
      ]
    },
    {
      "cell_type": "code",
      "metadata": {
        "colab": {
          "base_uri": "https://localhost:8080/"
        },
        "id": "lDv1xuM2LaLU",
        "outputId": "e0dc822e-78b3-407a-819e-2549be598bc0"
      },
      "source": [
        "data.size"
      ],
      "execution_count": 5,
      "outputs": [
        {
          "output_type": "execute_result",
          "data": {
            "text/plain": [
              "72693"
            ]
          },
          "metadata": {
            "tags": []
          },
          "execution_count": 5
        }
      ]
    },
    {
      "cell_type": "code",
      "metadata": {
        "colab": {
          "base_uri": "https://localhost:8080/"
        },
        "id": "0cV6CbChLaNj",
        "outputId": "ed92765b-e985-45f4-cd35-08e120a92a7d"
      },
      "source": [
        "data.shape"
      ],
      "execution_count": 7,
      "outputs": [
        {
          "output_type": "execute_result",
          "data": {
            "text/plain": [
              "(8077, 9)"
            ]
          },
          "metadata": {
            "tags": []
          },
          "execution_count": 7
        }
      ]
    },
    {
      "cell_type": "code",
      "metadata": {
        "colab": {
          "base_uri": "https://localhost:8080/"
        },
        "id": "V1IDnP1KLaQc",
        "outputId": "9cb2209f-104d-4e4a-861a-775018633bfa"
      },
      "source": [
        "data.info()"
      ],
      "execution_count": 8,
      "outputs": [
        {
          "output_type": "stream",
          "text": [
            "<class 'pandas.core.frame.DataFrame'>\n",
            "RangeIndex: 8077 entries, 0 to 8076\n",
            "Data columns (total 9 columns):\n",
            " #   Column       Non-Null Count  Dtype \n",
            "---  ------       --------------  ----- \n",
            " 0   auction_id   8077 non-null   object\n",
            " 1   experiment   8077 non-null   object\n",
            " 2   date         8077 non-null   object\n",
            " 3   hour         8077 non-null   int64 \n",
            " 4   device_make  8077 non-null   object\n",
            " 5   platform_os  8077 non-null   int64 \n",
            " 6   browser      8077 non-null   object\n",
            " 7   yes          8077 non-null   int64 \n",
            " 8   no           8077 non-null   int64 \n",
            "dtypes: int64(4), object(5)\n",
            "memory usage: 568.0+ KB\n"
          ],
          "name": "stdout"
        }
      ]
    },
    {
      "cell_type": "code",
      "metadata": {
        "colab": {
          "base_uri": "https://localhost:8080/",
          "height": 297
        },
        "id": "kYUkImgULrIO",
        "outputId": "85b1cf0f-d7f5-41e1-8547-734b6f983b01"
      },
      "source": [
        "data.describe()"
      ],
      "execution_count": 9,
      "outputs": [
        {
          "output_type": "execute_result",
          "data": {
            "text/html": [
              "<div>\n",
              "<style scoped>\n",
              "    .dataframe tbody tr th:only-of-type {\n",
              "        vertical-align: middle;\n",
              "    }\n",
              "\n",
              "    .dataframe tbody tr th {\n",
              "        vertical-align: top;\n",
              "    }\n",
              "\n",
              "    .dataframe thead th {\n",
              "        text-align: right;\n",
              "    }\n",
              "</style>\n",
              "<table border=\"1\" class=\"dataframe\">\n",
              "  <thead>\n",
              "    <tr style=\"text-align: right;\">\n",
              "      <th></th>\n",
              "      <th>hour</th>\n",
              "      <th>platform_os</th>\n",
              "      <th>yes</th>\n",
              "      <th>no</th>\n",
              "    </tr>\n",
              "  </thead>\n",
              "  <tbody>\n",
              "    <tr>\n",
              "      <th>count</th>\n",
              "      <td>8077.000000</td>\n",
              "      <td>8077.000000</td>\n",
              "      <td>8077.000000</td>\n",
              "      <td>8077.000000</td>\n",
              "    </tr>\n",
              "    <tr>\n",
              "      <th>mean</th>\n",
              "      <td>11.615080</td>\n",
              "      <td>5.947134</td>\n",
              "      <td>0.070818</td>\n",
              "      <td>0.083075</td>\n",
              "    </tr>\n",
              "    <tr>\n",
              "      <th>std</th>\n",
              "      <td>5.734879</td>\n",
              "      <td>0.224333</td>\n",
              "      <td>0.256537</td>\n",
              "      <td>0.276013</td>\n",
              "    </tr>\n",
              "    <tr>\n",
              "      <th>min</th>\n",
              "      <td>0.000000</td>\n",
              "      <td>5.000000</td>\n",
              "      <td>0.000000</td>\n",
              "      <td>0.000000</td>\n",
              "    </tr>\n",
              "    <tr>\n",
              "      <th>25%</th>\n",
              "      <td>7.000000</td>\n",
              "      <td>6.000000</td>\n",
              "      <td>0.000000</td>\n",
              "      <td>0.000000</td>\n",
              "    </tr>\n",
              "    <tr>\n",
              "      <th>50%</th>\n",
              "      <td>13.000000</td>\n",
              "      <td>6.000000</td>\n",
              "      <td>0.000000</td>\n",
              "      <td>0.000000</td>\n",
              "    </tr>\n",
              "    <tr>\n",
              "      <th>75%</th>\n",
              "      <td>15.000000</td>\n",
              "      <td>6.000000</td>\n",
              "      <td>0.000000</td>\n",
              "      <td>0.000000</td>\n",
              "    </tr>\n",
              "    <tr>\n",
              "      <th>max</th>\n",
              "      <td>23.000000</td>\n",
              "      <td>7.000000</td>\n",
              "      <td>1.000000</td>\n",
              "      <td>1.000000</td>\n",
              "    </tr>\n",
              "  </tbody>\n",
              "</table>\n",
              "</div>"
            ],
            "text/plain": [
              "              hour  platform_os          yes           no\n",
              "count  8077.000000  8077.000000  8077.000000  8077.000000\n",
              "mean     11.615080     5.947134     0.070818     0.083075\n",
              "std       5.734879     0.224333     0.256537     0.276013\n",
              "min       0.000000     5.000000     0.000000     0.000000\n",
              "25%       7.000000     6.000000     0.000000     0.000000\n",
              "50%      13.000000     6.000000     0.000000     0.000000\n",
              "75%      15.000000     6.000000     0.000000     0.000000\n",
              "max      23.000000     7.000000     1.000000     1.000000"
            ]
          },
          "metadata": {
            "tags": []
          },
          "execution_count": 9
        }
      ]
    },
    {
      "cell_type": "code",
      "metadata": {
        "id": "kbUTUrAWMA6Z"
      },
      "source": [
        "#Duplicate calculate\n",
        "def duplicate_calculator(df):\n",
        "  dups = df.duplicated()\n",
        "  # report if there are any duplicates\n",
        "  \n",
        "  return print(dups.any())"
      ],
      "execution_count": 12,
      "outputs": []
    },
    {
      "cell_type": "code",
      "metadata": {
        "colab": {
          "base_uri": "https://localhost:8080/"
        },
        "id": "FcZheggXMdrh",
        "outputId": "80386feb-a5aa-4e21-ce36-a7bbbbeab0a2"
      },
      "source": [
        "duplicate_calculator(data)"
      ],
      "execution_count": 13,
      "outputs": [
        {
          "output_type": "stream",
          "text": [
            "False\n"
          ],
          "name": "stdout"
        }
      ]
    },
    {
      "cell_type": "code",
      "metadata": {
        "id": "xEA5bx8nM26D"
      },
      "source": [
        "def missing_value_identifier(df):\n",
        "  print(\"The number of missing value(s): {}\".format(df.isnull().sum().sum()))\n",
        "  \n",
        "  print(\"Columons having columns value:{}\".format(df.columns[df.isnull().any()]))\n",
        "\n",
        " "
      ],
      "execution_count": 24,
      "outputs": []
    },
    {
      "cell_type": "code",
      "metadata": {
        "colab": {
          "base_uri": "https://localhost:8080/"
        },
        "id": "1fME7-IfLrK0",
        "outputId": "171deb7b-c086-42bf-a134-0a869cab829d"
      },
      "source": [
        "missing_value_identifier(data)"
      ],
      "execution_count": 25,
      "outputs": [
        {
          "output_type": "stream",
          "text": [
            "The number of missing value(s): 0\n",
            "Columons having columns value:Index([], dtype='object')\n"
          ],
          "name": "stdout"
        }
      ]
    },
    {
      "cell_type": "markdown",
      "metadata": {
        "id": "v-bWW3oNOO8Y"
      },
      "source": [
        "**Univariat Analyisis **"
      ]
    },
    {
      "cell_type": "code",
      "metadata": {
        "colab": {
          "base_uri": "https://localhost:8080/"
        },
        "id": "FhoewZzpLrNI",
        "outputId": "8475b6fb-c107-4581-e93c-19efc700da1f"
      },
      "source": [
        "#unique value count for each Auction Identifier \n",
        "Unique_auction_id= data['auction_id'].nunique()\n",
        "print(\"Unique user identifier\",Unique_auction_id)"
      ],
      "execution_count": 28,
      "outputs": [
        {
          "output_type": "stream",
          "text": [
            "Unique user identifier 8077\n"
          ],
          "name": "stdout"
        }
      ]
    },
    {
      "cell_type": "markdown",
      "metadata": {
        "id": "sYr0KKDBPVL8"
      },
      "source": [
        "**Information about experiment **"
      ]
    },
    {
      "cell_type": "code",
      "metadata": {
        "colab": {
          "base_uri": "https://localhost:8080/"
        },
        "id": "QPf1BNQbPOVf",
        "outputId": "d5df72ec-2d14-437f-9af1-ee3a7f37e5c4"
      },
      "source": [
        "#value count for each experiment\n",
        "experiment_count=data['experiment'].value_counts()\n",
        "experiment_count"
      ],
      "execution_count": 29,
      "outputs": [
        {
          "output_type": "execute_result",
          "data": {
            "text/plain": [
              "control    4071\n",
              "exposed    4006\n",
              "Name: experiment, dtype: int64"
            ]
          },
          "metadata": {
            "tags": []
          },
          "execution_count": 29
        }
      ]
    },
    {
      "cell_type": "code",
      "metadata": {
        "colab": {
          "base_uri": "https://localhost:8080/",
          "height": 301
        },
        "id": "8SJtu5YhPOX1",
        "outputId": "cdc637dc-2ad5-40c7-c46b-d655a9380884"
      },
      "source": [
        "sns.set_theme(style=\"darkgrid\")\n",
        "ax = plt.axes()\n",
        "sns.countplot(data=data,x='experiment',palette=\"rocket\")\n",
        "ax.set_title(\"Experiment information\")\n",
        "\n",
        "plt.show()"
      ],
      "execution_count": 54,
      "outputs": [
        {
          "output_type": "display_data",
          "data": {
            "image/png": "[encoded data removed]",
            "text/plain": [
              "<Figure size 432x288 with 1 Axes>"
            ]
          },
          "metadata": {
            "tags": []
          }
        }
      ]
    },
    {
      "cell_type": "code",
      "metadata": {
        "colab": {
          "base_uri": "https://localhost:8080/",
          "height": 518
        },
        "id": "hIBwJhXuSe8Z",
        "outputId": "8762393c-fba0-4996-cffa-d63cb8b10db3"
      },
      "source": [
        "sns.set_theme(style=\"darkgrid\")\n",
        "plt.figure(figsize=(10,8))\n",
        "ax = plt.axes()\n",
        "sns.countplot(data=data,y='date',palette=\"rocket\")\n",
        "ax.set_title(\"Date count information \")\n",
        "\n",
        "plt.show()\n"
      ],
      "execution_count": 53,
      "outputs": [
        {
          "output_type": "display_data",
          "data": {
            "image/png": "[encoded data removed]",
            "text/plain": [
              "<Figure size 720x576 with 1 Axes>"
            ]
          },
          "metadata": {
            "tags": []
          }
        }
      ]
    },
    {
      "cell_type": "code",
      "metadata": {
        "colab": {
          "base_uri": "https://localhost:8080/",
          "height": 518
        },
        "id": "cywh_fjIPOa1",
        "outputId": "594d4cdd-2e2f-4eec-83bf-0cd665b67ba0"
      },
      "source": [
        "sns.set_theme(style=\"darkgrid\")\n",
        "plt.figure(figsize=(10,8))\n",
        "ax = plt.axes()\n",
        "sns.countplot(data=data,y='hour',palette=\"rocket\")\n",
        "ax.set_title(\"Hours count information\")\n",
        "\n",
        "plt.show()"
      ],
      "execution_count": 52,
      "outputs": [
        {
          "output_type": "display_data",
          "data": {
            "image/png": "[encoded data removed]",
            "text/plain": [
              "<Figure size 720x576 with 1 Axes>"
            ]
          },
          "metadata": {
            "tags": []
          }
        }
      ]
    },
    {
      "cell_type": "code",
      "metadata": {
        "colab": {
          "base_uri": "https://localhost:8080/",
          "height": 518
        },
        "id": "0iHsc7QIUEtL",
        "outputId": "f41d1b31-106e-4af8-f737-3314708fabb6"
      },
      "source": [
        "sns.set_theme(style=\"darkgrid\")\n",
        "plt.figure(figsize=(10,8))\n",
        "ax = plt.axes()\n",
        "sns.countplot(data=data,y='platform_os',order=data['platform_os'].value_counts().iloc[:5].index,palette=\"rocket\")\n",
        "ax.set_title(\"paltform_os count information\")\n",
        "\n",
        "plt.show()"
      ],
      "execution_count": 50,
      "outputs": [
        {
          "output_type": "display_data",
          "data": {
            "image/png": "[encoded data removed]",
            "text/plain": [
              "<Figure size 720x576 with 1 Axes>"
            ]
          },
          "metadata": {
            "tags": []
          }
        }
      ]
    },
    {
      "cell_type": "code",
      "metadata": {
        "colab": {
          "base_uri": "https://localhost:8080/",
          "height": 538
        },
        "id": "FcFe2b6fUqbT",
        "outputId": "e9c779de-494b-4321-eabd-56fa0d7c3f3d"
      },
      "source": [
        "sns.set_theme(style=\"darkgrid\")\n",
        "plt.figure(figsize=(10,8))\n",
        "ax = plt.axes()\n",
        "sns.countplot(data=data,y='browser',order=data['browser'].value_counts().iloc[:10].index,palette=\"rocket\",edgecolor=(0,0,0))\n",
        "ax.set_title(\"paltform_os count information\")\n",
        "\n",
        "plt.show()"
      ],
      "execution_count": 47,
      "outputs": [
        {
          "output_type": "display_data",
          "data": {
            "image/png": "[encoded data removed]",
            "text/plain": [
              "<Figure size 720x576 with 1 Axes>"
            ]
          },
          "metadata": {
            "tags": []
          }
        }
      ]
    },
    {
      "cell_type": "markdown",
      "metadata": {
        "id": "gkgZx1U1aK7C"
      },
      "source": [
        "**Bivariate Anlyisis **"
      ]
    },
    {
      "cell_type": "code",
      "metadata": {
        "colab": {
          "base_uri": "https://localhost:8080/",
          "height": 535
        },
        "id": "KHAq76foaVQI",
        "outputId": "34e0709d-7f33-48cd-f662-d8822a9bef88"
      },
      "source": [
        "sns.set_theme(style=\"darkgrid\")\n",
        "plt.figure(figsize=(10,8))\n",
        "ax = plt.axes()\n",
        "sns.countplot(data=data,x='experiment',hue='yes',palette=\"rocket\",edgecolor=(0,0,0))\n",
        "ax.set_title(\"Experiment and yes count information\")"
      ],
      "execution_count": 57,
      "outputs": [
        {
          "output_type": "execute_result",
          "data": {
            "text/plain": [
              "Text(0.5, 1.0, 'Experiment and yes count information')"
            ]
          },
          "metadata": {
            "tags": []
          },
          "execution_count": 57
        },
        {
          "output_type": "display_data",
          "data": {
            "image/png": "[encoded data removed]",
            "text/plain": [
              "<Figure size 720x576 with 1 Axes>"
            ]
          },
          "metadata": {
            "tags": []
          }
        }
      ]
    },
    {
      "cell_type": "code",
      "metadata": {
        "colab": {
          "base_uri": "https://localhost:8080/",
          "height": 535
        },
        "id": "rC3Zo6q3aVTB",
        "outputId": "5e3dc5f8-9365-4010-fdf4-07a11c50c28f"
      },
      "source": [
        "sns.set_theme(style=\"darkgrid\")\n",
        "plt.figure(figsize=(10,8))\n",
        "ax = plt.axes()\n",
        "sns.countplot(data=data,x='experiment',hue='no',palette=\"rocket\",edgecolor=(0,0,0))\n",
        "ax.set_title(\"Experiment and no count information\")"
      ],
      "execution_count": 58,
      "outputs": [
        {
          "output_type": "execute_result",
          "data": {
            "text/plain": [
              "Text(0.5, 1.0, 'Experiment and no count information')"
            ]
          },
          "metadata": {
            "tags": []
          },
          "execution_count": 58
        },
        {
          "output_type": "display_data",
          "data": {
            "image/png": "[encoded data removed]",
            "text/plain": [
              "<Figure size 720x576 with 1 Axes>"
            ]
          },
          "metadata": {
            "tags": []
          }
        }
      ]
    },
    {
      "cell_type": "code",
      "metadata": {
        "colab": {
          "base_uri": "https://localhost:8080/",
          "height": 535
        },
        "id": "pFrWY95CbM0O",
        "outputId": "85fd814b-00b7-46ba-b8e5-49126445fa6b"
      },
      "source": [
        "sns.set_theme(style=\"darkgrid\")\n",
        "plt.figure(figsize=(10,8))\n",
        "ax = plt.axes()\n",
        "sns.countplot(data=data,x='date',hue='experiment',palette=\"rocket\",edgecolor=(0,0,0))\n",
        "ax.set_title(\"Experiment and yes count information\")"
      ],
      "execution_count": 60,
      "outputs": [
        {
          "output_type": "execute_result",
          "data": {
            "text/plain": [
              "Text(0.5, 1.0, 'Experiment and yes count information')"
            ]
          },
          "metadata": {
            "tags": []
          },
          "execution_count": 60
        },
        {
          "output_type": "display_data",
          "data": {
            "image/png": "[encoded data removed]",
            "text/plain": [
              "<Figure size 720x576 with 1 Axes>"
            ]
          },
          "metadata": {
            "tags": []
          }
        }
      ]
    },
    {
      "cell_type": "code",
      "metadata": {
        "colab": {
          "base_uri": "https://localhost:8080/",
          "height": 302
        },
        "id": "r0LaNpVrbob4",
        "outputId": "29dd05b7-8c4a-4759-ea69-6d6ad9fcf227"
      },
      "source": [
        "#variables corelation \n",
        "variables_correlation= data.corr()\n",
        "ax = plt.axes()\n",
        "sns.heatmap(variables_correlation, vmin=0, vmax=0.5, annot=True)\n",
        "ax.set_title(\"Correlation between variables\")"
      ],
      "execution_count": 64,
      "outputs": [
        {
          "output_type": "execute_result",
          "data": {
            "text/plain": [
              "Text(0.5, 1.0, 'Correlation between variables')"
            ]
          },
          "metadata": {
            "tags": []
          },
          "execution_count": 64
        },
        {
          "output_type": "display_data",
          "data": {
            "image/png": "[encoded data removed]",
            "text/plain": [
              "<Figure size 432x288 with 2 Axes>"
            ]
          },
          "metadata": {
            "tags": []
          }
        }
      ]
    },
    {
      "cell_type": "markdown",
      "metadata": {
        "id": "dumXDse6c-kT"
      },
      "source": [
        "The correlation matics shows as there is no significat correlation between variables in the given dataset."
      ]
    },
    {
      "cell_type": "markdown",
      "metadata": {
        "id": "SIbUYqr6dicq"
      },
      "source": [
        "Statistical AB testing "
      ]
    },
    {
      "cell_type": "markdown",
      "metadata": {
        "id": "1vRzIZ0sfUlZ"
      },
      "source": [
        "Selecting data having value 1 for yes and no column\n",
        "\n",
        "Processing data to feed to machine learning model"
      ]
    },
    {
      "cell_type": "code",
      "metadata": {
        "id": "Wh6tD79JvRrp"
      },
      "source": [
        "from sklearn.model_selection import KFold, cross_val_score,train_test_split\n",
        "from sklearn.linear_model import LogisticRegression\n",
        "import xgboost as xgb\n",
        "from sklearn import metrics\n",
        "from sklearn import preprocessing\n",
        "from sklearn.metrics import log_loss\n",
        "from sklearn.preprocessing import MinMaxScaler"
      ],
      "execution_count": 101,
      "outputs": []
    },
    {
      "cell_type": "code",
      "metadata": {
        "id": "gKn86UiJdhlW"
      },
      "source": [
        "awarness_inx=((data['yes']==1) | (data['no']==1))"
      ],
      "execution_count": 66,
      "outputs": []
    },
    {
      "cell_type": "code",
      "metadata": {
        "colab": {
          "base_uri": "https://localhost:8080/",
          "height": 204
        },
        "id": "0laZO-AffTt7",
        "outputId": "de2181e0-e57c-4964-8118-0385f4028c7b"
      },
      "source": [
        "awarness_df=data[awarness_inx].copy()\n",
        "awarness_df.reset_index(drop=True, inplace=True)\n",
        "awarness_df= awarness_df[awarness_df.columns[:-1]].copy()\n",
        "awarness_df.rename(columns={'yes':'awarness'}, inplace=True)\n",
        "awarness_df.head()"
      ],
      "execution_count": 72,
      "outputs": [
        {
          "output_type": "execute_result",
          "data": {
            "text/html": [
              "<div>\n",
              "<style scoped>\n",
              "    .dataframe tbody tr th:only-of-type {\n",
              "        vertical-align: middle;\n",
              "    }\n",
              "\n",
              "    .dataframe tbody tr th {\n",
              "        vertical-align: top;\n",
              "    }\n",
              "\n",
              "    .dataframe thead th {\n",
              "        text-align: right;\n",
              "    }\n",
              "</style>\n",
              "<table border=\"1\" class=\"dataframe\">\n",
              "  <thead>\n",
              "    <tr style=\"text-align: right;\">\n",
              "      <th></th>\n",
              "      <th>auction_id</th>\n",
              "      <th>experiment</th>\n",
              "      <th>date</th>\n",
              "      <th>hour</th>\n",
              "      <th>device_make</th>\n",
              "      <th>platform_os</th>\n",
              "      <th>browser</th>\n",
              "      <th>awarness</th>\n",
              "    </tr>\n",
              "  </thead>\n",
              "  <tbody>\n",
              "    <tr>\n",
              "      <th>0</th>\n",
              "      <td>0016d14a-ae18-4a02-a204-6ba53b52f2ed</td>\n",
              "      <td>exposed</td>\n",
              "      <td>2020-07-05</td>\n",
              "      <td>2</td>\n",
              "      <td>E5823</td>\n",
              "      <td>6</td>\n",
              "      <td>Chrome Mobile WebView</td>\n",
              "      <td>0</td>\n",
              "    </tr>\n",
              "    <tr>\n",
              "      <th>1</th>\n",
              "      <td>008aafdf-deef-4482-8fec-d98e3da054da</td>\n",
              "      <td>exposed</td>\n",
              "      <td>2020-07-04</td>\n",
              "      <td>16</td>\n",
              "      <td>Generic Smartphone</td>\n",
              "      <td>6</td>\n",
              "      <td>Chrome Mobile</td>\n",
              "      <td>1</td>\n",
              "    </tr>\n",
              "    <tr>\n",
              "      <th>2</th>\n",
              "      <td>00a1384a-5118-4d1b-925b-6cdada50318d</td>\n",
              "      <td>exposed</td>\n",
              "      <td>2020-07-06</td>\n",
              "      <td>8</td>\n",
              "      <td>Generic Smartphone</td>\n",
              "      <td>6</td>\n",
              "      <td>Chrome Mobile</td>\n",
              "      <td>0</td>\n",
              "    </tr>\n",
              "    <tr>\n",
              "      <th>3</th>\n",
              "      <td>00b6fadb-10bd-49e3-a778-290da82f7a8d</td>\n",
              "      <td>control</td>\n",
              "      <td>2020-07-08</td>\n",
              "      <td>4</td>\n",
              "      <td>Samsung SM-A202F</td>\n",
              "      <td>6</td>\n",
              "      <td>Facebook</td>\n",
              "      <td>1</td>\n",
              "    </tr>\n",
              "    <tr>\n",
              "      <th>4</th>\n",
              "      <td>00ebf4a8-060f-4b99-93ac-c62724399483</td>\n",
              "      <td>control</td>\n",
              "      <td>2020-07-03</td>\n",
              "      <td>15</td>\n",
              "      <td>Generic Smartphone</td>\n",
              "      <td>6</td>\n",
              "      <td>Chrome Mobile</td>\n",
              "      <td>0</td>\n",
              "    </tr>\n",
              "  </tbody>\n",
              "</table>\n",
              "</div>"
            ],
            "text/plain": [
              "                             auction_id  ... awarness\n",
              "0  0016d14a-ae18-4a02-a204-6ba53b52f2ed  ...        0\n",
              "1  008aafdf-deef-4482-8fec-d98e3da054da  ...        1\n",
              "2  00a1384a-5118-4d1b-925b-6cdada50318d  ...        0\n",
              "3  00b6fadb-10bd-49e3-a778-290da82f7a8d  ...        1\n",
              "4  00ebf4a8-060f-4b99-93ac-c62724399483  ...        0\n",
              "\n",
              "[5 rows x 8 columns]"
            ]
          },
          "metadata": {
            "tags": []
          },
          "execution_count": 72
        }
      ]
    },
    {
      "cell_type": "code",
      "metadata": {
        "id": "TPETyZwrJCoO"
      },
      "source": [
        "#dropping colums which are not imformative \n",
        "del awarness_df['auction_id']"
      ],
      "execution_count": 73,
      "outputs": []
    },
    {
      "cell_type": "code",
      "metadata": {
        "colab": {
          "base_uri": "https://localhost:8080/",
          "height": 204
        },
        "id": "EeQTbsukl0NI",
        "outputId": "133ee242-3c31-4ac3-fce7-f50798b57570"
      },
      "source": [
        "awarness_df['date']=pd.to_datetime(awarness_df['date'])\n",
        "awarness_df['day']=awarness_df['date'].dt.day_name()\n",
        "del awarness_df['date']\n",
        "awarness_df.head()"
      ],
      "execution_count": 76,
      "outputs": [
        {
          "output_type": "execute_result",
          "data": {
            "text/html": [
              "<div>\n",
              "<style scoped>\n",
              "    .dataframe tbody tr th:only-of-type {\n",
              "        vertical-align: middle;\n",
              "    }\n",
              "\n",
              "    .dataframe tbody tr th {\n",
              "        vertical-align: top;\n",
              "    }\n",
              "\n",
              "    .dataframe thead th {\n",
              "        text-align: right;\n",
              "    }\n",
              "</style>\n",
              "<table border=\"1\" class=\"dataframe\">\n",
              "  <thead>\n",
              "    <tr style=\"text-align: right;\">\n",
              "      <th></th>\n",
              "      <th>experiment</th>\n",
              "      <th>hour</th>\n",
              "      <th>device_make</th>\n",
              "      <th>platform_os</th>\n",
              "      <th>browser</th>\n",
              "      <th>awarness</th>\n",
              "      <th>day</th>\n",
              "    </tr>\n",
              "  </thead>\n",
              "  <tbody>\n",
              "    <tr>\n",
              "      <th>0</th>\n",
              "      <td>exposed</td>\n",
              "      <td>2</td>\n",
              "      <td>E5823</td>\n",
              "      <td>6</td>\n",
              "      <td>Chrome Mobile WebView</td>\n",
              "      <td>0</td>\n",
              "      <td>Sunday</td>\n",
              "    </tr>\n",
              "    <tr>\n",
              "      <th>1</th>\n",
              "      <td>exposed</td>\n",
              "      <td>16</td>\n",
              "      <td>Generic Smartphone</td>\n",
              "      <td>6</td>\n",
              "      <td>Chrome Mobile</td>\n",
              "      <td>1</td>\n",
              "      <td>Saturday</td>\n",
              "    </tr>\n",
              "    <tr>\n",
              "      <th>2</th>\n",
              "      <td>exposed</td>\n",
              "      <td>8</td>\n",
              "      <td>Generic Smartphone</td>\n",
              "      <td>6</td>\n",
              "      <td>Chrome Mobile</td>\n",
              "      <td>0</td>\n",
              "      <td>Monday</td>\n",
              "    </tr>\n",
              "    <tr>\n",
              "      <th>3</th>\n",
              "      <td>control</td>\n",
              "      <td>4</td>\n",
              "      <td>Samsung SM-A202F</td>\n",
              "      <td>6</td>\n",
              "      <td>Facebook</td>\n",
              "      <td>1</td>\n",
              "      <td>Wednesday</td>\n",
              "    </tr>\n",
              "    <tr>\n",
              "      <th>4</th>\n",
              "      <td>control</td>\n",
              "      <td>15</td>\n",
              "      <td>Generic Smartphone</td>\n",
              "      <td>6</td>\n",
              "      <td>Chrome Mobile</td>\n",
              "      <td>0</td>\n",
              "      <td>Friday</td>\n",
              "    </tr>\n",
              "  </tbody>\n",
              "</table>\n",
              "</div>"
            ],
            "text/plain": [
              "  experiment  hour  ... awarness        day\n",
              "0    exposed     2  ...        0     Sunday\n",
              "1    exposed    16  ...        1   Saturday\n",
              "2    exposed     8  ...        0     Monday\n",
              "3    control     4  ...        1  Wednesday\n",
              "4    control    15  ...        0     Friday\n",
              "\n",
              "[5 rows x 7 columns]"
            ]
          },
          "metadata": {
            "tags": []
          },
          "execution_count": 76
        }
      ]
    },
    {
      "cell_type": "code",
      "metadata": {
        "id": "Y__xRIluJCqP",
        "colab": {
          "base_uri": "https://localhost:8080/",
          "height": 204
        },
        "outputId": "9868d39a-3d73-46ce-93dc-cb6db2fed19a"
      },
      "source": [
        "\n",
        "\n",
        "encoder = preprocessing.LabelEncoder()\n",
        "awarness_df['experiment']=encoder.fit_transform(awarness_df['experiment'])\n",
        "awarness_df['device_make']=encoder.fit_transform(awarness_df['device_make'])\n",
        "awarness_df['browser']=encoder.fit_transform(awarness_df['browser'])\n",
        "awarness_df['day']=encoder.fit_transform(awarness_df['day'])\n",
        "awarness_df.head()\n"
      ],
      "execution_count": 78,
      "outputs": [
        {
          "output_type": "execute_result",
          "data": {
            "text/html": [
              "<div>\n",
              "<style scoped>\n",
              "    .dataframe tbody tr th:only-of-type {\n",
              "        vertical-align: middle;\n",
              "    }\n",
              "\n",
              "    .dataframe tbody tr th {\n",
              "        vertical-align: top;\n",
              "    }\n",
              "\n",
              "    .dataframe thead th {\n",
              "        text-align: right;\n",
              "    }\n",
              "</style>\n",
              "<table border=\"1\" class=\"dataframe\">\n",
              "  <thead>\n",
              "    <tr style=\"text-align: right;\">\n",
              "      <th></th>\n",
              "      <th>experiment</th>\n",
              "      <th>hour</th>\n",
              "      <th>device_make</th>\n",
              "      <th>platform_os</th>\n",
              "      <th>browser</th>\n",
              "      <th>awarness</th>\n",
              "      <th>day</th>\n",
              "    </tr>\n",
              "  </thead>\n",
              "  <tbody>\n",
              "    <tr>\n",
              "      <th>0</th>\n",
              "      <td>1</td>\n",
              "      <td>2</td>\n",
              "      <td>4</td>\n",
              "      <td>6</td>\n",
              "      <td>2</td>\n",
              "      <td>0</td>\n",
              "      <td>3</td>\n",
              "    </tr>\n",
              "    <tr>\n",
              "      <th>1</th>\n",
              "      <td>1</td>\n",
              "      <td>16</td>\n",
              "      <td>13</td>\n",
              "      <td>6</td>\n",
              "      <td>1</td>\n",
              "      <td>1</td>\n",
              "      <td>2</td>\n",
              "    </tr>\n",
              "    <tr>\n",
              "      <th>2</th>\n",
              "      <td>1</td>\n",
              "      <td>8</td>\n",
              "      <td>13</td>\n",
              "      <td>6</td>\n",
              "      <td>1</td>\n",
              "      <td>0</td>\n",
              "      <td>1</td>\n",
              "    </tr>\n",
              "    <tr>\n",
              "      <th>3</th>\n",
              "      <td>0</td>\n",
              "      <td>4</td>\n",
              "      <td>43</td>\n",
              "      <td>6</td>\n",
              "      <td>4</td>\n",
              "      <td>1</td>\n",
              "      <td>6</td>\n",
              "    </tr>\n",
              "    <tr>\n",
              "      <th>4</th>\n",
              "      <td>0</td>\n",
              "      <td>15</td>\n",
              "      <td>13</td>\n",
              "      <td>6</td>\n",
              "      <td>1</td>\n",
              "      <td>0</td>\n",
              "      <td>0</td>\n",
              "    </tr>\n",
              "  </tbody>\n",
              "</table>\n",
              "</div>"
            ],
            "text/plain": [
              "   experiment  hour  device_make  platform_os  browser  awarness  day\n",
              "0           1     2            4            6        2         0    3\n",
              "1           1    16           13            6        1         1    2\n",
              "2           1     8           13            6        1         0    1\n",
              "3           0     4           43            6        4         1    6\n",
              "4           0    15           13            6        1         0    0"
            ]
          },
          "metadata": {
            "tags": []
          },
          "execution_count": 78
        }
      ]
    },
    {
      "cell_type": "code",
      "metadata": {
        "id": "-gah5h9PJCs-",
        "colab": {
          "base_uri": "https://localhost:8080/",
          "height": 363
        },
        "outputId": "64e0955e-8a85-4960-be75-b2fa2ec0aaf4"
      },
      "source": [
        "#variables corelation \n",
        "awarness_correlation= awarness_df.corr()\n",
        "ax = plt.axes()\n",
        "sns.heatmap(awarness_correlation, vmin=0, vmax=0.5, annot=True)\n",
        "ax.set_title(\"Correlation between variables\")"
      ],
      "execution_count": 79,
      "outputs": [
        {
          "output_type": "execute_result",
          "data": {
            "text/plain": [
              "Text(0.5, 1.0, 'Correlation between variables')"
            ]
          },
          "metadata": {
            "tags": []
          },
          "execution_count": 79
        },
        {
          "output_type": "display_data",
          "data": {
            "image/png": "[encoded data removed]",
            "text/plain": [
              "<Figure size 432x288 with 2 Axes>"
            ]
          },
          "metadata": {
            "tags": []
          }
        }
      ]
    },
    {
      "cell_type": "markdown",
      "metadata": {
        "id": "kiHE6a0ookqD"
      },
      "source": [
        "From this correlation map variables browser and device make are highly correlated we can drop either of them.\n",
        "\n",
        "\n"
      ]
    },
    {
      "cell_type": "code",
      "metadata": {
        "id": "ZIW5fuEjJCvt"
      },
      "source": [
        "del awarness_df['device_make']\n"
      ],
      "execution_count": 80,
      "outputs": []
    },
    {
      "cell_type": "code",
      "metadata": {
        "id": "jzzjNTHcJCyS",
        "colab": {
          "base_uri": "https://localhost:8080/",
          "height": 204
        },
        "outputId": "e39e0b71-cd4c-4bb3-ffa9-fcaa7d1b4b8a"
      },
      "source": [
        "awarness_df.head()"
      ],
      "execution_count": 85,
      "outputs": [
        {
          "output_type": "execute_result",
          "data": {
            "text/html": [
              "<div>\n",
              "<style scoped>\n",
              "    .dataframe tbody tr th:only-of-type {\n",
              "        vertical-align: middle;\n",
              "    }\n",
              "\n",
              "    .dataframe tbody tr th {\n",
              "        vertical-align: top;\n",
              "    }\n",
              "\n",
              "    .dataframe thead th {\n",
              "        text-align: right;\n",
              "    }\n",
              "</style>\n",
              "<table border=\"1\" class=\"dataframe\">\n",
              "  <thead>\n",
              "    <tr style=\"text-align: right;\">\n",
              "      <th></th>\n",
              "      <th>experiment</th>\n",
              "      <th>hour</th>\n",
              "      <th>platform_os</th>\n",
              "      <th>browser</th>\n",
              "      <th>awarness</th>\n",
              "      <th>day</th>\n",
              "    </tr>\n",
              "  </thead>\n",
              "  <tbody>\n",
              "    <tr>\n",
              "      <th>0</th>\n",
              "      <td>1</td>\n",
              "      <td>2</td>\n",
              "      <td>6</td>\n",
              "      <td>2</td>\n",
              "      <td>0</td>\n",
              "      <td>3</td>\n",
              "    </tr>\n",
              "    <tr>\n",
              "      <th>1</th>\n",
              "      <td>1</td>\n",
              "      <td>16</td>\n",
              "      <td>6</td>\n",
              "      <td>1</td>\n",
              "      <td>1</td>\n",
              "      <td>2</td>\n",
              "    </tr>\n",
              "    <tr>\n",
              "      <th>2</th>\n",
              "      <td>1</td>\n",
              "      <td>8</td>\n",
              "      <td>6</td>\n",
              "      <td>1</td>\n",
              "      <td>0</td>\n",
              "      <td>1</td>\n",
              "    </tr>\n",
              "    <tr>\n",
              "      <th>3</th>\n",
              "      <td>0</td>\n",
              "      <td>4</td>\n",
              "      <td>6</td>\n",
              "      <td>4</td>\n",
              "      <td>1</td>\n",
              "      <td>6</td>\n",
              "    </tr>\n",
              "    <tr>\n",
              "      <th>4</th>\n",
              "      <td>0</td>\n",
              "      <td>15</td>\n",
              "      <td>6</td>\n",
              "      <td>1</td>\n",
              "      <td>0</td>\n",
              "      <td>0</td>\n",
              "    </tr>\n",
              "  </tbody>\n",
              "</table>\n",
              "</div>"
            ],
            "text/plain": [
              "   experiment  hour  platform_os  browser  awarness  day\n",
              "0           1     2            6        2         0    3\n",
              "1           1    16            6        1         1    2\n",
              "2           1     8            6        1         0    1\n",
              "3           0     4            6        4         1    6\n",
              "4           0    15            6        1         0    0"
            ]
          },
          "metadata": {
            "tags": []
          },
          "execution_count": 85
        }
      ]
    },
    {
      "cell_type": "code",
      "metadata": {
        "id": "OjwYed6lJC0d",
        "colab": {
          "base_uri": "https://localhost:8080/"
        },
        "outputId": "3aaa4373-5f11-4236-e933-525951f78549"
      },
      "source": [
        "\n",
        "scaler = MinMaxScaler()\n",
        "scaled_data=pd.DataFrame(scaler.fit_transform(awarness_df),columns=('experiment','hour','platform_os','browser','awarness','day'))\n",
        "print(scaled_data)"
      ],
      "execution_count": 88,
      "outputs": [
        {
          "output_type": "stream",
          "text": [
            "      experiment      hour  platform_os   browser  awarness       day\n",
            "0            1.0  0.086957          1.0  0.285714       0.0  0.500000\n",
            "1            1.0  0.695652          1.0  0.142857       1.0  0.333333\n",
            "2            1.0  0.347826          1.0  0.142857       0.0  0.166667\n",
            "3            0.0  0.173913          1.0  0.571429       1.0  1.000000\n",
            "4            0.0  0.652174          1.0  0.142857       0.0  0.000000\n",
            "...          ...       ...          ...       ...       ...       ...\n",
            "1238         1.0  0.913043          1.0  0.142857       1.0  0.500000\n",
            "1239         1.0  0.043478          1.0  0.142857       1.0  0.333333\n",
            "1240         0.0  0.304348          1.0  0.142857       0.0  0.666667\n",
            "1241         0.0  0.695652          1.0  0.142857       0.0  0.000000\n",
            "1242         1.0  0.173913          1.0  0.142857       0.0  0.000000\n",
            "\n",
            "[1243 rows x 6 columns]\n"
          ],
          "name": "stdout"
        }
      ]
    },
    {
      "cell_type": "code",
      "metadata": {
        "id": "FpUOsjSNJC3A"
      },
      "source": [
        "#scaling data using meanmax Scaler\n",
        "scaled_data = scaled_data[['experiment', 'hour', 'day', 'platform_os','browser','awarness']]\n",
        "X=scaled_data.drop('awarness', axis=1)\n",
        "Y=scaled_data['awarness']"
      ],
      "execution_count": 97,
      "outputs": []
    },
    {
      "cell_type": "code",
      "metadata": {
        "id": "t2P16vces8Ry"
      },
      "source": [
        "#Spliting data into training testing and validation \n",
        "X_train,X_test,Y_train,Y_test=train_test_split(X,Y, test_size=0.1, random_state=1)\n",
        "\n",
        "#validation data\n",
        "x_train,y_train,x_val,y_val=train_test_split(X_train,Y_train, test_size=0.1, random_state=1)\n"
      ],
      "execution_count": 119,
      "outputs": []
    },
    {
      "cell_type": "markdown",
      "metadata": {
        "id": "IwPdIMj9-HvV"
      },
      "source": [
        "**Modelling **\n",
        "Using Logistic regression and XGBoost Model"
      ]
    },
    {
      "cell_type": "code",
      "metadata": {
        "colab": {
          "base_uri": "https://localhost:8080/"
        },
        "id": "wR_lQj85ujDO",
        "outputId": "3d60f1b2-14d6-41ed-b58a-c29f2a5786d0"
      },
      "source": [
        "Regression_model=LogisticRegression()\n",
        "Regression_model.fit(x_train,x_val)\n",
        "accuracy= cross_val_score(Regression_model,y_train,y_val, cv=5,scoring='accuracy').mean()*100\n",
        "print(\"Accuracyof the logistic Regression model is:%.2f\"%accuracy)"
      ],
      "execution_count": 127,
      "outputs": [
        {
          "output_type": "stream",
          "text": [
            "Accuracyof the logistic Regression model is:42.92\n"
          ],
          "name": "stdout"
        }
      ]
    },
    {
      "cell_type": "code",
      "metadata": {
        "id": "iedF5aQg_lcP"
      },
      "source": [
        "import numpy as np\n",
        "import scipy.stats as stat\n",
        "def statistics_of_model(model,X):\n",
        "  #### Get p-values for the fitted model ####\n",
        "  denom = (2.0*(1.0+np.cosh(model.decision_function(X))))\n",
        "  denom = np.tile(denom,(X.shape[1],1)).T\n",
        "  F_ij = np.dot((X/denom).T,X) ## Fisher Information Matrix\n",
        "  Cramer_Rao = np.linalg.inv(F_ij) ## Inverse Information Matrix\n",
        "  sigma_estimates = np.sqrt(np.diagonal(Cramer_Rao))\n",
        "  z_scores = model.coef_[0]/sigma_estimates # z-score for eaach model coefficient\n",
        "  p_values = [stat.norm.sf(abs(x))*2 for x in z_scores] ### two tailed test for p-values\n",
        "        \n",
        "  z_scores = z_scores\n",
        "  p_values = p_values\n",
        "  sigma_estimates = sigma_estimates\n",
        "  F_ij = F_ij\n",
        "  return z_scores,p_values\n"
      ],
      "execution_count": 146,
      "outputs": []
    },
    {
      "cell_type": "code",
      "metadata": {
        "id": "pJH7FdLFASCW"
      },
      "source": [
        "z_scores,p_values=statistics_of_model(Regression_model,x_train)"
      ],
      "execution_count": 147,
      "outputs": []
    },
    {
      "cell_type": "code",
      "metadata": {
        "id": "pt2WAnZAAfZ_"
      },
      "source": [
        "def plot_stat(z_scores,p_values,X):\n",
        "  summary= pd.DataFrame()\n",
        "  summary[\"Features\"] = X.columns\n",
        "  summary[\"z_score\"] = z_scores\n",
        "  summary[\"p_value\"] = p_values\n",
        "  sns.barplot(summary[\"Features\"],summary[\"p_value\"], data=summary)"
      ],
      "execution_count": 153,
      "outputs": []
    },
    {
      "cell_type": "code",
      "metadata": {
        "colab": {
          "base_uri": "https://localhost:8080/",
          "height": 340
        },
        "id": "d5myD4LGBfM0",
        "outputId": "22a2a05f-0b08-4352-b679-6b65fafe9d36"
      },
      "source": [
        "plot_stat(z_scores,p_values,x_train)"
      ],
      "execution_count": 154,
      "outputs": [
        {
          "output_type": "stream",
          "text": [
            "/usr/local/lib/python3.7/dist-packages/seaborn/_decorators.py:43: FutureWarning: Pass the following variables as keyword args: x, y. From version 0.12, the only valid positional argument will be `data`, and passing other arguments without an explicit keyword will result in an error or misinterpretation.\n",
            "  FutureWarning\n"
          ],
          "name": "stderr"
        },
        {
          "output_type": "display_data",
          "data": {
            "image/png": "[encoded data removed]",
            "text/plain": [
              "<Figure size 432x288 with 1 Axes>"
            ]
          },
          "metadata": {
            "tags": []
          }
        }
      ]
    },
    {
      "cell_type": "code",
      "metadata": {
        "id": "KVsYuMN_JC4-"
      },
      "source": [
        "\n",
        "def prediction(model):\n",
        "  predicted=model.predict(X_test)\n",
        "  return metrics.confusion_matrix(Y_test,predicted)"
      ],
      "execution_count": 128,
      "outputs": []
    },
    {
      "cell_type": "code",
      "metadata": {
        "id": "BOOqnTSnJC8X",
        "colab": {
          "base_uri": "https://localhost:8080/"
        },
        "outputId": "36c2675d-6efb-40d6-fec4-443ca64db5bf"
      },
      "source": [
        "prediction(Regression_model)"
      ],
      "execution_count": 129,
      "outputs": [
        {
          "output_type": "execute_result",
          "data": {
            "text/plain": [
              "array([[65,  5],\n",
              "       [51,  4]])"
            ]
          },
          "metadata": {
            "tags": []
          },
          "execution_count": 129
        }
      ]
    },
    {
      "cell_type": "code",
      "metadata": {
        "colab": {
          "base_uri": "https://localhost:8080/",
          "height": 519
        },
        "id": "l61BEkMd33HB",
        "outputId": "e3360e7f-621f-405c-cccc-64eb816e3661"
      },
      "source": [
        "plt.figure(figsize=(10,8))\n",
        "plt.title(\"Feature importance\")\n",
        "plt.xlabel(\"Features\")\n",
        "plt.ylabel(\"Importance\")\n",
        "\n",
        "features=(Regression_model.coef_[0])\n",
        "plt.bar(x_train.columns,features)\n",
        "plt.show()"
      ],
      "execution_count": 132,
      "outputs": [
        {
          "output_type": "display_data",
          "data": {
            "image/png": "[encoded data removed]",
            "text/plain": [
              "<Figure size 720x576 with 1 Axes>"
            ]
          },
          "metadata": {
            "tags": []
          }
        }
      ]
    },
    {
      "cell_type": "code",
      "metadata": {
        "colab": {
          "base_uri": "https://localhost:8080/"
        },
        "id": "5Tx88ZAs4ehA",
        "outputId": "0c70de8f-8c7f-4f45-9cc6-4929bfc94075"
      },
      "source": [
        "XGBData=xgb.DMatrix(data=X_train,label=Y_train)\n",
        "\n",
        "Xgb_model=xgb.XGBClassifier()\n",
        "\n",
        "Xgb_model.fit(x_train, x_val)\n"
      ],
      "execution_count": 134,
      "outputs": [
        {
          "output_type": "execute_result",
          "data": {
            "text/plain": [
              "XGBClassifier(base_score=0.5, booster='gbtree', colsample_bylevel=1,\n",
              "              colsample_bynode=1, colsample_bytree=1, gamma=0,\n",
              "              learning_rate=0.1, max_delta_step=0, max_depth=3,\n",
              "              min_child_weight=1, missing=None, n_estimators=100, n_jobs=1,\n",
              "              nthread=None, objective='binary:logistic', random_state=0,\n",
              "              reg_alpha=0, reg_lambda=1, scale_pos_weight=1, seed=None,\n",
              "              silent=None, subsample=1, verbosity=1)"
            ]
          },
          "metadata": {
            "tags": []
          },
          "execution_count": 134
        }
      ]
    },
    {
      "cell_type": "code",
      "metadata": {
        "colab": {
          "base_uri": "https://localhost:8080/"
        },
        "id": "z7IlhQ-o4Ic_",
        "outputId": "a448909b-8f90-4281-d613-9b9a55d9af96"
      },
      "source": [
        "accuracy= cross_val_score(Xgb_model,y_train,y_val, cv=5,scoring='accuracy').mean()*100\n",
        "print(\"Accuracyof the logistic XGBoost is:%.2f\"%accuracy)"
      ],
      "execution_count": 135,
      "outputs": [
        {
          "output_type": "stream",
          "text": [
            "Accuracyof the logistic Regression model is:44.74\n"
          ],
          "name": "stdout"
        }
      ]
    },
    {
      "cell_type": "code",
      "metadata": {
        "colab": {
          "base_uri": "https://localhost:8080/",
          "height": 519
        },
        "id": "fV7VlFLG70aR",
        "outputId": "3ad80fe7-3058-48bf-90cf-6c644eb8d100"
      },
      "source": [
        "plt.figure(figsize=(10,8))\n",
        "plt.title(\"Feature importance\")\n",
        "plt.xlabel(\"Features\")\n",
        "plt.ylabel(\"Importance\")\n",
        "\n",
        "features=(Xgb_model.feature_importances_)\n",
        "plt.bar(x_train.columns,features)\n",
        "plt.show()"
      ],
      "execution_count": 138,
      "outputs": [
        {
          "output_type": "display_data",
          "data": {
            "image/png": "[encoded data removed]",
            "text/plain": [
              "<Figure size 720x576 with 1 Axes>"
            ]
          },
          "metadata": {
            "tags": []
          }
        }
      ]
    }
  ]
}